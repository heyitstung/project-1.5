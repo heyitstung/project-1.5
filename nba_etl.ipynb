{
 "cells": [
  {
   "cell_type": "code",
   "execution_count": 110,
   "metadata": {},
   "outputs": [],
   "source": [
    "from splinter import Browser\n",
    "from splinter.exceptions import ElementDoesNotExist\n",
    "from bs4 import BeautifulSoup\n",
    "import requests\n",
    "import pandas as pd\n",
    "import os, string\n",
    "import csv\n",
    "import pymongo\n",
    "# import time"
   ]
  },
  {
   "cell_type": "markdown",
   "metadata": {},
   "source": [
    "# Extract (Scrape) Data"
   ]
  },
  {
   "cell_type": "code",
   "execution_count": 2,
   "metadata": {},
   "outputs": [],
   "source": [
    "# currentDirectory = os.path.dirname(__file__)\n",
    "# executable_path = {\"executable_path\": f\"{currentDirectory}\\chromedriver.exe\"}\n",
    "executable_path = {'executable_path': 'chromedriver.exe'} #notebook version\n",
    "browser = Browser('chrome', **executable_path, headless=True)"
   ]
  },
  {
   "cell_type": "markdown",
   "metadata": {},
   "source": [
    "### Scrape Schedules"
   ]
  },
  {
   "cell_type": "code",
   "execution_count": 59,
   "metadata": {},
   "outputs": [
    {
     "data": {
      "text/plain": [
       "[            matchup          Unnamed: 1 time  (PT) nat tv  \\\n",
       " 0     Portland  POR        Indiana  IND       LIVE    TNT   \n",
       " 1   Sacramento  SAC  Oklahoma City  OKC       LIVE    NaN   \n",
       " 2  Los Angeles  LAL    Golden State  GS    7:30 PM    TNT   \n",
       " \n",
       "                  tickets  Unnamed: 5  \n",
       " 0     Buy on Vivid Seats         NaN  \n",
       " 1     Buy on Vivid Seats         NaN  \n",
       " 2  Tickets as low as $36         NaN  ]"
      ]
     },
     "execution_count": 59,
     "metadata": {},
     "output_type": "execute_result"
    }
   ],
   "source": [
    "nba_sched_url = \"https://www.espn.com/nba/schedule/_/date/\"\n",
    "browser.visit(nba_sched_url)\n",
    "browser.html\n",
    "html = browser.html\n",
    "soup = BeautifulSoup(html, 'lxml')\n",
    "sched_tables = soup.find('table', class_=\"schedule has-team-logos align-left\")\n",
    "schedules_sites = pd.read_html(sched_tables.prettify())\n",
    "schedules_sites"
   ]
  },
  {
   "cell_type": "code",
   "execution_count": null,
   "metadata": {},
   "outputs": [],
   "source": [
    "# for a in string.ascii_lowercase[:26]:\n",
    "#     print(f\"https://www.basketball-reference.com/players/{a}/\")"
   ]
  },
  {
   "cell_type": "code",
   "execution_count": null,
   "metadata": {},
   "outputs": [],
   "source": [
    "for letter in string.ascii_lowercase[:26]:\n",
    "    print(f\"https://www.landofbasketball.com/nba_players_index/letter_{letter}.htm\")"
   ]
  },
  {
   "cell_type": "code",
   "execution_count": null,
   "metadata": {},
   "outputs": [],
   "source": [
    "# base_reference_url = \"https://www.basketball-reference.com\"\n",
    "# players_url = \"https://www.basketball-reference.com/players/a/\"\n",
    "# browser.visit(players_url)\n",
    "# browser.html\n",
    "# html = browser.html\n",
    "# soup = BeautifulSoup(html, 'lxml')"
   ]
  },
  {
   "cell_type": "code",
   "execution_count": 61,
   "metadata": {},
   "outputs": [],
   "source": [
    "base_reference_url = \"https://www.landofbasketball.com\"\n",
    "players_url = \"https://www.landofbasketball.com/nba_players_index/letter_h.htm\"\n",
    "browser.visit(players_url)\n",
    "browser.html \n",
    "html = browser.html\n",
    "soup = BeautifulSoup(html, 'lxml')"
   ]
  },
  {
   "cell_type": "code",
   "execution_count": null,
   "metadata": {},
   "outputs": [],
   "source": [
    "all_player_table = soup.find_all('div', class_=\"indice-items\")\n",
    "for row in all_player_table:\n",
    "    print(row.find('a')['href'].replace('..', base_reference_url ))"
   ]
  },
  {
   "cell_type": "code",
   "execution_count": 20,
   "metadata": {},
   "outputs": [],
   "source": [
    "# player_url = \"https://www.landofbasketball.com/nba_players/h/rui_hachimura.htm\"\n",
    "# browser.visit(player_url)\n",
    "# browser.html\n",
    "# html = browser.html\n",
    "# soup = BeautifulSoup(html, 'lxml')"
   ]
  },
  {
   "cell_type": "code",
   "execution_count": 106,
   "metadata": {},
   "outputs": [
    {
     "name": "stdout",
     "output_type": "stream",
     "text": [
      "Rui Hachimura\n"
     ]
    },
    {
     "data": {
      "text/plain": [
       "{'Team:': {'Value': 'Washington Wizards'},\n",
       " 'Position:': {'Value': 'Forward'},\n",
       " 'Jersey Number:': {'Value': '8 (Wizards) - view jerseys...'},\n",
       " 'Height:': {'Value': '6-8 / 2.03 mts'},\n",
       " 'Weight:': {'Value': '230 lbs / 104.3 kg'},\n",
       " 'Born:': {'Value': 'February 08, 1998 in Toyama, Japan'},\n",
       " 'High-School:': {'Value': 'Meisei in Sendai'},\n",
       " 'College:': {'Value': 'Gonzaga University'},\n",
       " 'Drafted:': {'Value': 'by the Washington Wizards with No. 9 overall pick in round 1 of the 2019 NBA Draft'},\n",
       " 'NBA Seasons:': {'Value': '1 (0 Playoffs)'},\n",
       " 'NBA Titles:': {'Value': 'none'},\n",
       " 'All-Star:': {'Value': 'none'}}"
      ]
     },
     "execution_count": 106,
     "metadata": {},
     "output_type": "execute_result"
    }
   ],
   "source": [
    "tables = pd.read_html(player_url)\n",
    "print(tables[3][0][0].split(' Profile',1)[0])\n",
    "try_df = tables[1].set_index(0)\n",
    "try_df.rename(columns={0: \"Key\", 1: \"Value\"}, inplace=True)\n",
    "try_df = try_df.to_dict('index')\n",
    "try_df"
   ]
  },
  {
   "cell_type": "markdown",
   "metadata": {},
   "source": [
    "## Load dump to mongo"
   ]
  },
  {
   "cell_type": "code",
   "execution_count": 111,
   "metadata": {},
   "outputs": [],
   "source": [
    "conn = \"mongodb://localhost:27017\"\n",
    "client = pymongo.MongoClient(conn)\n",
    "db = client.nba\n",
    "db.nba_players_stg.drop()"
   ]
  },
  {
   "cell_type": "code",
   "execution_count": null,
   "metadata": {},
   "outputs": [
    {
     "name": "stdout",
     "output_type": "stream",
     "text": [
      "../nba_players/a/alaa_abdelnaby.htm../nba_players/a/zaid_abdul_aziz.htm../nba_players/a/kareem_abdul_jabbar.htm../nba_players/a/mahdi_abdul_rahman.htm../nba_players/a/mahmoud_abdul_rauf.htm../nba_players/a/tariq_abdul_wahad.htm../nba_players/a/shareef_abdur_rahim.htm../nba_players/a/tom_abernethy.htm../nba_players/a/forest_able.htm../nba_players/a/john_abramovic.htm../nba_players/a/alex_abrines.htm../nba_players/a/alex_acker.htm../nba_players/a/don_ackerman.htm../nba_players/a/mark_acres.htm../nba_players/a/bud_acton.htm../nba_players/a/quincy_acy.htm../nba_players/a/alvan_adams.htm../nba_players/a/don_adams.htm../nba_players/a/hassan_adams.htm../nba_players/a/jaylen_adams.htm../nba_players/a/jordan_adams.htm../nba_players/a/michael_adams.htm../nba_players/a/steven_adams.htm../nba_players/a/rafael_addison.htm../nba_players/a/bam_adebayo.htm../nba_players/a/deng_adel.htm../nba_players/a/rick_adelman.htm../nba_players/a/jeff_adrien.htm../nba_players/a/arron_afflalo.htm../nba_players/a/maurice_ager.htm../nba_players/a/mark_aguirre.htm../nba_players/a/blake_ahearn.htm../nba_players/a/danny_ainge.htm../nba_players/a/alexis_ajinca.htm../nba_players/a/henry_akin.htm../nba_players/a/josh_akognon.htm../nba_players/a/devaughn_akoon_purc.htm../nba_players/a/solomon_alabi.htm../nba_players/a/mark_alarie.htm../nba_players/a/gary_alcorn.htm../nba_players/a/furkan_aldemir.htm../nba_players/a/cole_aldrich.htm../nba_players/a/lamarcus_aldridge.htm../nba_players/a/chuck_aleksinas.htm../nba_players/a/cliff_alexander.htm../nba_players/a/cory_alexander.htm../nba_players/a/courtney_alexander.htm../nba_players/a/gary_alexander.htm../nba_players/a/joe_alexander.htm../nba_players/a/victor_alexander.htm../nba_players/a/nickeil_alexander_walker.htm../nba_players/a/steve_alford.htm../nba_players/a/rawle_alkins.htm../nba_players/a/bob_allen.htm../nba_players/a/grayson_allen.htm../nba_players/a/jarrett_allen.htm../nba_players/a/jerome_allen.htm../nba_players/a/kadeem_allen.htm../nba_players/a/lavoy_allen.htm../nba_players/a/lucius_allen.htm../nba_players/a/malik_allen.htm../nba_players/a/randy_allen.htm../nba_players/a/ray_allen.htm../nba_players/a/tony_allen.htm../nba_players/a/odis_allison.htm../nba_players/a/lance_allred.htm../nba_players/a/darrell_allums.htm../nba_players/a/morris_almond.htm../nba_players/a/derrick_alston.htm../nba_players/a/rafer_alston.htm../nba_players/a/peter_aluma.htm../nba_players/a/john_amaechi.htm../nba_players/a/ashraf_amaya.htm../nba_players/a/al_farouq_aminu.htm../nba_players/a/louis_amundson.htm../nba_players/a/bob_anderegg.htm../nba_players/a/chris_andersen.htm../nba_players/a/david_andersen.htm../nba_players/a/alan_anderson.htm../nba_players/a/antonio_anderson.htm../nba_players/a/cliff_anderson.htm../nba_players/a/dan_anderson_2.htm../nba_players/a/derek_anderson.htm../nba_players/a/dwight_anderson.htm../nba_players/a/eric_anderson.htm../nba_players/a/greg_anderson.htm../nba_players/a/jj_anderson.htm../nba_players/a/james_anderson.htm../nba_players/a/jerome_anderson.htm../nba_players/a/justin_anderson.htm../nba_players/a/kenny_anderson.htm../nba_players/a/kim_anderson.htm../nba_players/a/kyle_anderson.htm../nba_players/a/michael_anderson.htm../nba_players/a/nick_anderson.htm../nba_players/a/richard_anderson.htm../nba_players/a/ron_anderson.htm../nba_players/a/ryan_anderson.htm../nba_players/a/shandon_anderson.htm../nba_players/a/willie_anderson.htm../nba_players/a/wally_anderzunas.htm../nba_players/a/martynas_andriuskevicius.htm../nba_players/a/don_anielak.htm../nba_players/a/ike_anigbogu.htm../nba_players/a/michael_ansley.htm../nba_players/a/chris_anstey.htm../nba_players/a/giannis_antetokounmpo.htm../nba_players/a/kostas_antetokounmpo.htm../nba_players/a/thanasis_antetokounmpo.htm../nba_players/a/carmelo_anthony.htm../nba_players/a/greg_anthony.htm../nba_players/a/joel_anthony.htm../nba_players/a/pero_antic.htm../nba_players/a/og_anunoby.htm../nba_players/a/keith_appling.htm../nba_players/a/rafael_araujo.htm../nba_players/a/stacey_arceneaux.htm../nba_players/a/robert_archibald.htm../nba_players/a/tiny_archibald.htm../nba_players/a/ryan_arcidiacono.htm../nba_players/a/jim_ard.htm../nba_players/a/gilbert_arenas.htm../nba_players/a/trevor_ariza.htm../nba_players/a/paul_arizin.htm../nba_players/a/joe_arlauckas.htm../nba_players/a/bj_armstrong.htm../nba_players/a/bob_armstrong.htm../nba_players/a/brandon_armstrong.htm../nba_players/a/curly_armstrong.htm../nba_players/a/darrell_armstrong.htm../nba_players/a/hilton_armstrong.htm../nba_players/a/tate_armstrong.htm../nba_players/a/jesse_arnelle.htm../nba_players/a/jay_arnette.htm../nba_players/a/bob_arnzen.htm../nba_players/a/carlos_arroyo.htm../nba_players/a/darrell_arthur.htm../nba_players/a/john_arthurs.htm../nba_players/a/jamel_artis.htm../nba_players/a/omer_asik.htm../nba_players/a/vincent_askew.htm../nba_players/a/keith_askins.htm../nba_players/a/don_asmonga.htm../nba_players/a/dick_atha.htm../nba_players/a/chucky_atkins.htm../nba_players/a/al_attles.htm../nba_players/a/chet_aubuchon.htm../nba_players/a/stacey_augmon.htm../nba_players/a/dj_augustin.htm../nba_players/a/james_augustine.htm../nba_players/a/isaac_austin.htm../nba_players/a/johnny_austin.htm../nba_players/a/ken_austin.htm../nba_players/a/anthony_avent.htm../nba_players/a/bird_averitt.htm../nba_players/a/william_avery.htm../nba_players/a/dennis_awtrey.htm../nba_players/a/gustavo_ayon.htm../nba_players/a/jeff_ayres.htm../nba_players/a/deandre_ayton.htm../nba_players/a/kelenna_azubuike.htm../nba_players/b/chris_babb.htm../nba_players/b/luke_babbitt.htm../nba_players/b/milos_babic.htm../nba_players/b/johnny_bach.htm../nba_players/b/dwayne_bacon.htm../nba_players/b/jim_baechtold.htm../nba_players/b/dalibor_bagaric.htm../nba_players/b/john_bagley.htm../nba_players/b/marvin_bagley_iii.htm../nba_players/b/carl_bailey.htm../nba_players/b/gus_bailey.htm../nba_players/b/james_bailey.htm../nba_players/b/thurl_bailey.htm../nba_players/b/toby_bailey.htm../nba_players/b/cameron_bairstow.htm../nba_players/b/lamark_baker.htm../nba_players/b/maurice_baker.htm../nba_players/b/norm_baker.htm../nba_players/b/ron_baker.htm../nba_players/b/vin_baker.htm../nba_players/b/wade_baldwin.htm../nba_players/b/renaldo_balkman.htm../nba_players/b/cedric_ball.htm../nba_players/b/lonzo_ball.htm../nba_players/b/greg_ballard.htm../nba_players/b/herschel_baltimore.htm../nba_players/b/mohamed_bamba.htm../nba_players/b/gene_banks.htm../nba_players/b/marcus_banks.htm../nba_players/b/ken_bannister.htm../nba_players/b/mike_bantom.htm../nba_players/b/john_barber.htm../nba_players/b/leandro_barbosa.htm../nba_players/b/steve_bardo.htm../nba_players/b/jose_barea.htm../nba_players/b/andrea_bargnani.htm../nba_players/b/cliff_barker.htm../nba_players/b/tom_barker.htm../nba_players/b/charles_barkley.htm../nba_players/b/erick_barkley.htm../nba_players/b/don_barksdale.htm../nba_players/b/harrison_barnes.htm../nba_players/b/harry_barnes.htm../nba_players/b/jim_barnes.htm../nba_players/b/marvin_barnes.htm../nba_players/b/matt_barnes.htm../nba_players/b/dick_barnett.htm../nba_players/b/jim_barnett.htm../nba_players/b/john_barnhill.htm../nba_players/b/norton_barnhill.htm../nba_players/b/leo_barnhorst.htm../nba_players/b/john_barr.htm../nba_players/b/mike_barr.htm../nba_players/b/moe_barr.htm"
     ]
    }
   ],
   "source": [
    "base_reference_url = \"https://www.landofbasketball.com\"\n",
    "#Traverse to all players\n",
    "for letter in string.ascii_lowercase[:26]:\n",
    "    players_url = f\"https://www.landofbasketball.com/nba_players_index/letter_{letter}.htm\"\n",
    "    browser.visit(players_url)\n",
    "    browser.html\n",
    "    html = browser.html\n",
    "    soup = BeautifulSoup(html, 'lxml')\n",
    "    all_player_table = soup.find_all('div', class_=\"indice-items\")\n",
    "    for row in all_player_table:\n",
    "        player_d = {}\n",
    "        print(row.find('a')['href'], end='')\n",
    "        player_url = row.find('a')['href'].replace('..', base_reference_url)\n",
    "        tables = pd.read_html(player_url)\n",
    "        try_df = tables[1].set_index(0)\n",
    "        try_df.rename(columns={0: \"Key\", 1: \"Value\"}, inplace=True)\n",
    "        try_df = try_df.to_dict('index')\n",
    "        player_d['Name'] = tables[3][0][0].split(' Profile',1)[0]\n",
    "        player_d['Data'] = try_df\n",
    "        db.nba_players_stg.insert_one(player_d)"
   ]
  },
  {
   "cell_type": "code",
   "execution_count": null,
   "metadata": {},
   "outputs": [],
   "source": [
    "player_list"
   ]
  },
  {
   "cell_type": "code",
   "execution_count": null,
   "metadata": {},
   "outputs": [],
   "source": [
    "# all_player_table = soup.find('div', class_=\"sortable stats_table now_sortable fixed_cols\")\n",
    "# for row in all_player_table.find_all('th', class_=\"left\"):\n",
    "#     print(f\"{base_reference_url}{row.find('a')['href']}\")"
   ]
  },
  {
   "cell_type": "code",
   "execution_count": 8,
   "metadata": {},
   "outputs": [],
   "source": [
    "# player_url = \"https://www.basketball-reference.com/players/a/azubuke01.html\"\n",
    "# browser.visit(player_url)\n",
    "# browser.html\n",
    "# html = browser.html\n",
    "# soup = BeautifulSoup(html, 'lxml')"
   ]
  },
  {
   "cell_type": "code",
   "execution_count": null,
   "metadata": {},
   "outputs": [],
   "source": [
    "bio_div = soup.find_all('div', attrs={\"itemtype\" : \"https://schema.org/Person\"})\n",
    "# print(bio_div[0].h1.text)\n",
    "# player_list = [a.text.replace('\\n', '').strip() for a in bio_div[0].find_all('p')]\n",
    "# player_list.insert(0, bio_div[0].h1.text)\n",
    "for prof in bio_div[0].find_all('p'):\n",
    "        print(prof)"
   ]
  },
  {
   "cell_type": "code",
   "execution_count": 10,
   "metadata": {},
   "outputs": [
    {
     "name": "stdout",
     "output_type": "stream",
     "text": [
      "-------------------------------Pronunciation: \\keh-LAH-nah ah-zoo-BWEE-kay\\\n",
      "-------------------------------Kelenna David Azubuike Twitter: KAzubuike7\n",
      "-------------------------------(Big Time Buike)\n",
      "-------------------------------Position: Small Forward and Shooting Guard Shoots: Right\n",
      "-------------------------------6-5, 220lb (196cm, 99kg)\n",
      "-------------------------------Born:December 16, 1983 (Age: 36-072d) in London, United Kingdomgb\n",
      "-------------------------------College: Kentucky\n",
      "-------------------------------High School: Victory Christian in Tulsa, Oklahoma\n",
      "-------------------------------Recruiting Rank: 2002 (31)\n",
      "-------------------------------NBA Debut: January 2, 2007\n"
     ]
    }
   ],
   "source": [
    "bio_div = soup.find_all('div', attrs={\"itemtype\" : \"https://schema.org/Person\"})\n",
    "# print(bio_div[0].h1.text)\n",
    "# player_list = [a.text.replace('\\n', '').strip() for a in bio_div[0].find_all('p')]\n",
    "# player_list.insert(0, bio_div[0].h1.text)\n",
    "for prof in bio_div[0].find_all('p'):\n",
    "#     prof.strong.decompose()\n",
    "#     if prof.find('strong'):\n",
    "#         prof.strong.decompose()\n",
    "#     print('-------------------------------'+prof.text.replace('\\n', '').strip().replace('   ', ''))\n",
    "    myString = prof.text.replace('\\n', '').strip()\n",
    "    myString = myString.replace('▪','')\n",
    "#     myString = myString.replace('Twitter:','')\n",
    "    print('-------------------------------'+\" \".join(myString.split()))\n",
    "\n",
    "# print(player_list)\n",
    "#         print(a.text.replace('\\n', '').strip())"
   ]
  },
  {
   "cell_type": "code",
   "execution_count": null,
   "metadata": {},
   "outputs": [],
   "source": [
    "output_file = os.path.join(\"nba_players.csv\")\n",
    "#  Open the output file\n",
    "with open(output_file, \"w\", newline=\"\") as datafile:\n",
    "    writer = csv.writer(datafile)\n",
    "    base_reference_url = \"https://www.basketball-reference.com\"\n",
    "    all_players = []\n",
    "    for letter in string.ascii_lowercase[:26]:\n",
    "        players_url = f\"https://www.basketball-reference.com/players/{letter}/\"\n",
    "        browser.visit(players_url)\n",
    "        browser.html\n",
    "        html = browser.html\n",
    "        soup = BeautifulSoup(html, 'lxml')\n",
    "        all_player_table = soup.find('table', class_=\"sortable stats_table now_sortable fixed_cols\")\n",
    "        for row in all_player_table.find_all('th', class_=\"left\"):\n",
    "            print(f\"{base_reference_url}{row.find('a')['href']}\")\n",
    "            player_url = f\"{base_reference_url}{row.find('a')['href']}\"\n",
    "            browser.visit(player_url)\n",
    "            browser.html\n",
    "            html = browser.html\n",
    "            soup = BeautifulSoup(html, 'lxml')\n",
    "            bio_div = soup.find_all('div', attrs={\"itemtype\" : \"https://schema.org/Person\"})\n",
    "            player_list = []\n",
    "    #         player_list = [a.text.replace('\\n', '').strip() for a in bio_div[0].find_all('p')]\n",
    "    #         player_list.insert(0, bio_div[0].h1.text)\n",
    "            for prof in bio_div[0].find_all('p'):\n",
    "                myString = prof.text.replace('\\n', '').strip()\n",
    "                myString = myString.replace('▪','')\n",
    "                player_list.append(\" \".join(myString.split()))\n",
    "            player_list.insert(0, bio_div[0].h1.text)\n",
    "#             print(player_list)\n",
    "#             all_players.append(player_list)\n",
    "            writer.writerow(player_list)"
   ]
  },
  {
   "cell_type": "code",
   "execution_count": 12,
   "metadata": {},
   "outputs": [
    {
     "data": {
      "text/plain": [
       "[['Alaa Abdelnaby',\n",
       "  'Alaa Abdelnaby Twitter: alaatweets',\n",
       "  '(Alphabet, The Pharaoh, Black Hole)',\n",
       "  'Position: Power Forward Shoots: Right',\n",
       "  '6-10, 240lb (208cm, 108kg)',\n",
       "  'Born:June 24, 1968 (Age: 51-247d) in Cairo, Egypteg',\n",
       "  'College: Duke',\n",
       "  'High School: Bloomfield in Bloomfield, New Jersey',\n",
       "  'Draft: Portland Trail Blazers, 1st round (25th pick, 25th overall), 1990 NBA Draft',\n",
       "  'NBA Debut: November 2, 1990']]"
      ]
     },
     "execution_count": 12,
     "metadata": {},
     "output_type": "execute_result"
    }
   ],
   "source": [
    "all_players"
   ]
  },
  {
   "cell_type": "code",
   "execution_count": null,
   "metadata": {},
   "outputs": [],
   "source": [
    "df"
   ]
  },
  {
   "cell_type": "code",
   "execution_count": null,
   "metadata": {},
   "outputs": [],
   "source": [
    "base_image_url = 'https://www.jpl.nasa.gov'\n",
    "target_image_url = f'{base_image_url}/spaceimages/?search=&category=Mars'\n",
    "browser.visit(target_image_url)\n",
    "browser.html\n",
    "html = browser.html\n",
    "soup = BeautifulSoup(html, 'lxml')"
   ]
  },
  {
   "cell_type": "code",
   "execution_count": null,
   "metadata": {},
   "outputs": [],
   "source": [
    "image_art = soup.find('ul', class_='articles')\n",
    "images = image_art.find_all('li', class_='slide')\n",
    "\n",
    "for image in images:\n",
    "    featured_image_url = f\"{base_image_url}{image.a['data-fancybox-href']}\"\n",
    "    print(featured_image_url)\n",
    "    print(20*'---')"
   ]
  },
  {
   "cell_type": "code",
   "execution_count": null,
   "metadata": {},
   "outputs": [],
   "source": [
    "twitter_url = 'https://twitter.com/marswxreport'\n",
    "response = requests.get(twitter_url)\n",
    "html = response.text\n",
    "soup = BeautifulSoup(html, 'html.parser')"
   ]
  },
  {
   "cell_type": "code",
   "execution_count": null,
   "metadata": {},
   "outputs": [],
   "source": [
    "tweets_div = soup.find_all('p', class_=\"TweetTextSize TweetTextSize--normal js-tweet-text tweet-text\")\n",
    "\n",
    "for tweet in tweets_div:\n",
    "    if tweet.text.startswith(\"InSight sol\", 0):\n",
    "        print(tweet.text)\n",
    "    else:\n",
    "        continue\n",
    "    print(20*'---')"
   ]
  },
  {
   "cell_type": "code",
   "execution_count": null,
   "metadata": {},
   "outputs": [],
   "source": [
    "facts_site = pd.read_html(\"https://space-facts.com/mars/\")"
   ]
  },
  {
   "cell_type": "code",
   "execution_count": null,
   "metadata": {},
   "outputs": [],
   "source": [
    "mars_df = pd.DataFrame(facts_site[0])\n",
    "mars_df.set_index(0)\n",
    "new_dict = {}\n",
    "for row in mars_df.iterrows():\n",
    "    new_dict[row[1][0]] = row[1][1]\n",
    "new_dict"
   ]
  },
  {
   "cell_type": "code",
   "execution_count": null,
   "metadata": {},
   "outputs": [],
   "source": [
    "usgs_image_url = 'https://astropedia.astrogeology.usgs.gov'\n",
    "base_image_url = 'https://astrogeology.usgs.gov/search/results?q=hemisphere+enhanced&k1=target&v1=Mars'\n",
    "# target_image_url = f'{base_image_url}/spaceimages/?search=&category=Mars'\n",
    "browser.visit(base_image_url)\n",
    "browser.html\n",
    "html = browser.html\n",
    "soup = BeautifulSoup(html, 'lxml')\n"
   ]
  },
  {
   "cell_type": "code",
   "execution_count": null,
   "metadata": {},
   "outputs": [],
   "source": [
    "pic_links = soup.find_all('a', class_=\"itemLink\")\n",
    "# http://astropedia.astrogeology.usgs.gov/download/Mars/Viking/cerberus_enhanced.tif"
   ]
  },
  {
   "cell_type": "code",
   "execution_count": null,
   "metadata": {},
   "outputs": [],
   "source": [
    "hemisphere_image_urls = []\n",
    "for pic in pic_links:\n",
    "    img = {}\n",
    "    if pic.h3:\n",
    "        img['title'] = pic.h3.text\n",
    "        img['img_url'] = usgs_image_url+pic['href'].replace('/search/map/','/download/') +'.tif'\n",
    "        hemisphere_image_urls.append(img)"
   ]
  },
  {
   "cell_type": "code",
   "execution_count": null,
   "metadata": {},
   "outputs": [],
   "source": [
    "hemisphere_image_urls"
   ]
  },
  {
   "cell_type": "code",
   "execution_count": 11,
   "metadata": {},
   "outputs": [
    {
     "data": {
      "text/plain": [
       "['Kelenna Azubuike',\n",
       " 'Pronunciation: \\\\keh-LAH-nah ah-zoo-BWEE-kay\\\\',\n",
       " 'Kelenna David Azubuike      ▪  Twitter:  KAzubuike7',\n",
       " '(Big Time Buike)',\n",
       " 'Position:    Small Forward and Shooting Guard    ▪      Shoots:    Right',\n",
       " '6-5,\\xa0220lb\\xa0(196cm,\\xa099kg)',\n",
       " 'Born:December 16,            1983 (Age:\\xa036-072d)    in\\xa0London,\\xa0United Kingdomgb',\n",
       " 'College:        Kentucky',\n",
       " 'High School:    Victory Christian  in  Tulsa,        Oklahoma',\n",
       " 'Recruiting Rank:  2002 (31)',\n",
       " 'NBA Debut: January 2, 2007']"
      ]
     },
     "execution_count": 11,
     "metadata": {},
     "output_type": "execute_result"
    }
   ],
   "source": [
    "all_players[5]"
   ]
  },
  {
   "cell_type": "code",
   "execution_count": null,
   "metadata": {},
   "outputs": [],
   "source": []
  }
 ],
 "metadata": {
  "kernelspec": {
   "display_name": "Python 3",
   "language": "python",
   "name": "python3"
  },
  "language_info": {
   "codemirror_mode": {
    "name": "ipython",
    "version": 3
   },
   "file_extension": ".py",
   "mimetype": "text/x-python",
   "name": "python",
   "nbconvert_exporter": "python",
   "pygments_lexer": "ipython3",
   "version": "3.8.1"
  },
  "varInspector": {
   "cols": {
    "lenName": 16,
    "lenType": 16,
    "lenVar": 40
   },
   "kernels_config": {
    "python": {
     "delete_cmd_postfix": "",
     "delete_cmd_prefix": "del ",
     "library": "var_list.py",
     "varRefreshCmd": "print(var_dic_list())"
    },
    "r": {
     "delete_cmd_postfix": ") ",
     "delete_cmd_prefix": "rm(",
     "library": "var_list.r",
     "varRefreshCmd": "cat(var_dic_list()) "
    }
   },
   "types_to_exclude": [
    "module",
    "function",
    "builtin_function_or_method",
    "instance",
    "_Feature"
   ],
   "window_display": false
  }
 },
 "nbformat": 4,
 "nbformat_minor": 4
}
